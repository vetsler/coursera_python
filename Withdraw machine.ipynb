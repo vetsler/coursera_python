{
 "cells": [
  {
   "cell_type": "code",
   "execution_count": 1,
   "metadata": {},
   "outputs": [],
   "source": [
    "class User(object):\n",
    "    def __init__(self, name, balance, checking_account):\n",
    "        self.name = name\n",
    "        self.balance = balance\n",
    "        self.checking_account = checking_account\n",
    "        self.has = self.name+' has '\n",
    "    #Happy coding\n",
    "\n",
    "    def withdraw(self,m2w):\n",
    "        try:\n",
    "            if self.balance - m2w < 0:\n",
    "                raise ValueError\n",
    "            else:\n",
    "                self.balance = self.balance - m2w\n",
    "                return self.has+str(self.balance)+'.'\n",
    "        except ValueError:\n",
    "            print('sorry he has only {0}'.format(self.balance))\n",
    "\n",
    "\n",
    "    def check(self, user, money):\n",
    "        try:\n",
    "            if (user.balance - money < 0) or (not user.checking_account):\n",
    "                raise ValueError\n",
    "            else: \n",
    "                user.balance = user.balance - money\n",
    "                self.balance = self.balance + money\n",
    "                return self.has+str(self.balance)+' and ' +user.has+str(user.balance)+ '.'\n",
    "        except ValueError:\n",
    "            print('sorry {0} has less, only {1}, and account {2}'.format(user.name, user.balance, user.checking_account))\n",
    "        \n",
    "    \n",
    "    def add_cash(self, money):\n",
    "        self.balance = self.balance + money\n",
    "        return self.has+str(self.balance)+'.'"
   ]
  },
  {
   "cell_type": "code",
   "execution_count": 2,
   "metadata": {},
   "outputs": [],
   "source": [
    "jo = User('jo',40,True)\n",
    "je = User('je', 30, False)"
   ]
  },
  {
   "cell_type": "code",
   "execution_count": 3,
   "metadata": {},
   "outputs": [
    {
     "data": {
      "text/plain": [
       "40"
      ]
     },
     "execution_count": 3,
     "metadata": {},
     "output_type": "execute_result"
    }
   ],
   "source": [
    "jo.balance"
   ]
  },
  {
   "cell_type": "code",
   "execution_count": 4,
   "metadata": {},
   "outputs": [
    {
     "data": {
      "text/plain": [
       "30"
      ]
     },
     "execution_count": 4,
     "metadata": {},
     "output_type": "execute_result"
    }
   ],
   "source": [
    "je.balance"
   ]
  },
  {
   "cell_type": "code",
   "execution_count": 5,
   "metadata": {},
   "outputs": [
    {
     "name": "stdout",
     "output_type": "stream",
     "text": [
      "sorry je has less, only 30, and account False\n"
     ]
    }
   ],
   "source": [
    "jo.check(je,20)"
   ]
  },
  {
   "cell_type": "code",
   "execution_count": 6,
   "metadata": {},
   "outputs": [
    {
     "data": {
      "text/plain": [
       "40"
      ]
     },
     "execution_count": 6,
     "metadata": {},
     "output_type": "execute_result"
    }
   ],
   "source": [
    "jo.balance"
   ]
  },
  {
   "cell_type": "code",
   "execution_count": 7,
   "metadata": {},
   "outputs": [
    {
     "data": {
      "text/plain": [
       "30"
      ]
     },
     "execution_count": 7,
     "metadata": {},
     "output_type": "execute_result"
    }
   ],
   "source": [
    "je.balance"
   ]
  },
  {
   "cell_type": "code",
   "execution_count": 8,
   "metadata": {},
   "outputs": [],
   "source": [
    "class User(object):\n",
    "    def __init__(self, name, balance, checking_account):\n",
    "        self.name = name\n",
    "        self.balance = balance\n",
    "        self.checking_account = checking_account\n",
    "        self.has = self.name+' has '\n",
    "    #Happy coding\n",
    "\n",
    "    def withdraw(self,m2w):\n",
    "        try:\n",
    "            if self.balance - m2w < 0:\n",
    "                raise ValueError\n",
    "            else:\n",
    "                self.balance = self.balance - m2w\n",
    "                return self.has+str(self.balance)+'.'\n",
    "        except ValueError:\n",
    "            print('withdraw {0}'.format(self.balance))         \n",
    "\n",
    "    def check(self, user, money):\n",
    "        try:\n",
    "            if (not user.checking_account): \n",
    "                raise ValueError\n",
    "            else:\n",
    "                user.balance = user.balance - money\n",
    "                self.balance = self.balance + money\n",
    "                return (self.has+str(self.balance)+' and '+user.has +str(user.balance)+'.')\n",
    "        except ValueError:\n",
    "            raise\n",
    "            \n",
    "            \n",
    "    def add_cash(self, money):\n",
    "        self.balance = self.balance + money\n",
    "        return self.has+str(self.balance)+'.'"
   ]
  },
  {
   "cell_type": "code",
   "execution_count": 9,
   "metadata": {},
   "outputs": [],
   "source": [
    "a = 'fffk.'\n"
   ]
  },
  {
   "cell_type": "code",
   "execution_count": 10,
   "metadata": {},
   "outputs": [
    {
     "data": {
      "text/plain": [
       "'fffk.'"
      ]
     },
     "execution_count": 10,
     "metadata": {},
     "output_type": "execute_result"
    }
   ],
   "source": [
    "a[:]"
   ]
  },
  {
   "cell_type": "code",
   "execution_count": 11,
   "metadata": {},
   "outputs": [
    {
     "data": {
      "text/plain": [
       "'fffk'"
      ]
     },
     "execution_count": 11,
     "metadata": {},
     "output_type": "execute_result"
    }
   ],
   "source": [
    "a[:-1]"
   ]
  },
  {
   "cell_type": "code",
   "execution_count": 12,
   "metadata": {},
   "outputs": [],
   "source": [
    "ch = 0\n",
    "t = 25\n",
    "p = [25,100]"
   ]
  },
  {
   "cell_type": "code",
   "execution_count": 77,
   "metadata": {},
   "outputs": [],
   "source": [
    "def tickets(people):\n",
    "    change = 0\n",
    "    for e in people:\n",
    "        if e==25:\n",
    "            print('my change is {}, I have return {}'.format(change, e-25))\n",
    "            change +=e\n",
    "            ans = \"YES\"\n",
    "            print('my new change is {}'.format(change))\n",
    "        elif change - e+25>=0:\n",
    "            print('my change is {}, I have return {}'.format(change, e-25))\n",
    "            change = change - e+25\n",
    "            ans = \"YES\"\n",
    "            print('my new change is {}'.format(change))\n",
    "        else:\n",
    "            print('my change is {}, I have return {}'.format(change, e-25))\n",
    "            ans = \"NO\"\n",
    "            print(e)\n",
    "            break\n",
    "    return ans"
   ]
  },
  {
   "cell_type": "code",
   "execution_count": 82,
   "metadata": {},
   "outputs": [
    {
     "name": "stdout",
     "output_type": "stream",
     "text": [
      "my change is 0, I have return 25\n",
      "50\n"
     ]
    },
    {
     "data": {
      "text/plain": [
       "'NO'"
      ]
     },
     "execution_count": 82,
     "metadata": {},
     "output_type": "execute_result"
    }
   ],
   "source": [
    "tickets(p)"
   ]
  },
  {
   "cell_type": "code",
   "execution_count": 81,
   "metadata": {},
   "outputs": [],
   "source": [
    "p=[50]"
   ]
  },
  {
   "cell_type": "code",
   "execution_count": 71,
   "metadata": {},
   "outputs": [
    {
     "data": {
      "text/plain": [
       "0"
      ]
     },
     "execution_count": 71,
     "metadata": {},
     "output_type": "execute_result"
    }
   ],
   "source": [
    "10%5"
   ]
  },
  {
   "cell_type": "code",
   "execution_count": 72,
   "metadata": {},
   "outputs": [],
   "source": [
    "p = [25,25,25,25,50,100,50]"
   ]
  },
  {
   "cell_type": "code",
   "execution_count": null,
   "metadata": {},
   "outputs": [],
   "source": [
    "tickets"
   ]
  }
 ],
 "metadata": {
  "kernelspec": {
   "display_name": "Python 3",
   "language": "python",
   "name": "python3"
  },
  "language_info": {
   "codemirror_mode": {
    "name": "ipython",
    "version": 3
   },
   "file_extension": ".py",
   "mimetype": "text/x-python",
   "name": "python",
   "nbconvert_exporter": "python",
   "pygments_lexer": "ipython3",
   "version": "3.6.4"
  }
 },
 "nbformat": 4,
 "nbformat_minor": 2
}
