{
 "cells": [
  {
   "cell_type": "code",
   "execution_count": 135,
   "metadata": {},
   "outputs": [],
   "source": [
    "import math as m\n",
    "\n",
    "class quadro(object):\n",
    "    def __init__(self,a,b,c):\n",
    "        self.a =a\n",
    "        self.b =b\n",
    "        self.c =c\n",
    "    def D(self):\n",
    "        return self.b**2 - 4*self.a*self.c\n",
    "    \n",
    "    def sD(self):\n",
    "        try:\n",
    "            return m.sqrt(self.D())\n",
    "        except ValueError:\n",
    "            print(\"D<0 sorry\")\n",
    "            \n",
    "    def roots(self):\n",
    "        try:\n",
    "            zn = 1/(2*self.a)\n",
    "            return ((-self.b+self.sD())*zn,(-self.b-self.sD())*zn)\n",
    "        except ZeroDivisionError:\n",
    "            print(f\"no no no a = {self.a} it is not quadratic, so x = \")\n",
    "            return -self.c/self.b\n",
    "                \n",
    "        \n",
    "    "
   ]
  },
  {
   "cell_type": "code",
   "execution_count": 128,
   "metadata": {},
   "outputs": [],
   "source": [
    "import csv\n",
    "class CarBase:\n",
    "    def __init__(self, brand, photo_file_name, carrying):\n",
    "        self.brand = brand\n",
    "        self.photo_file_name = photo_file_name\n",
    "        self.carrying = carrying\n",
    "\n",
    "    def get_photo_file_ext(self):\n",
    "        return os.path.splitext(self.photo_file_name)[1]\n",
    "\n",
    "\n",
    "class Car(CarBase):\n",
    "    def __init__(self, brand, photo_file_name, carrying, passenger_seats_count):\n",
    "        super().__init__(brand, photo_file_name,carrying)\n",
    "        self.car_type = 'car'\n",
    "        self.passenger_seats_count = passenger_seats_count\n",
    "\n",
    "\n",
    "class Truck(CarBase):\n",
    "    def __init__(self, brand, photo_file_name, carrying, body_whl):\n",
    "        super().__init__(brand, photo_file_name,carrying)\n",
    "        self.car_type = 'truck'\n",
    "        \n",
    "        if body_whl:\n",
    "            whl = body_whl.split(sep='x')\n",
    "            self.body_length = float(whl[0])\n",
    "            self.body_width = float(whl[1])\n",
    "            self.body_height = float(whl[2])\n",
    "        else: \n",
    "            self.body_length,self.body_width,self.body_height = 0,0,0\n",
    "            \n",
    "    def get_body_volume(self):\n",
    "        return self.body_length*self.body_width*self.body_height\n",
    "\n",
    "class SpecMachine(CarBase):\n",
    "    \n",
    "    def __init__(self, brand, photo_file_name, carrying, extra):\n",
    "        super().__init__(brand, photo_file_name,carrying)\n",
    "        self.car_type = 'spec_machine'\n",
    "        self.extra = extra\n",
    "\n",
    "        \n",
    "def get_car_list(csv_filename):\n",
    "    car_list = []\n",
    "    \n",
    "    with open(csv_filename) as csv_fd:\n",
    "        reader = csv.reader(csv_fd, delimiter=';')\n",
    "        next(reader)  # пропускаем заголовок\n",
    "        for row in reader:\n",
    "            print(row)\n",
    "            try:\n",
    "                cartype = row[0]\n",
    "            except IndexError: \n",
    "                continue\n",
    "            if cartype=='car':\n",
    "                try:\n",
    "                    ex=Car(row[1],row[3],row[5],row[2])\n",
    "                except IndexError: \n",
    "                    continue\n",
    "            if cartype=='truck':\n",
    "                try:\n",
    "                    ex=Truck(row[1],row[3],row[5],row[4])\n",
    "                except IndexError: \n",
    "                    continue\n",
    "            if cartype=='spec_machine':\n",
    "                try:\n",
    "                    ex=SpecMachine(row[1],row[3],row[5],row[6])\n",
    "                except IndexError:\n",
    "                    continue\n",
    "            car_list.append(ex)\n",
    "    return car_list"
   ]
  },
  {
   "cell_type": "code",
   "execution_count": 129,
   "metadata": {},
   "outputs": [],
   "source": [
    "file ='coursera_week3_cars.csv'"
   ]
  },
  {
   "cell_type": "code",
   "execution_count": null,
   "metadata": {},
   "outputs": [],
   "source": []
  },
  {
   "cell_type": "code",
   "execution_count": 130,
   "metadata": {},
   "outputs": [
    {
     "name": "stdout",
     "output_type": "stream",
     "text": [
      "['car', 'Nissan xTtrail', '4', 'f1.jpeg', '', '2.5', '']\n",
      "['truck', 'Man', '', 'f2.png', '8x3x2.5', '20', '']\n",
      "['truck', 'Man', '', 'f2.png', '', '20', '']\n",
      "['car', 'Mazda 6', '4', 'f3.jpeg', '', '2.5', '']\n",
      "['', '', '', '']\n",
      "['spec_machine', 'Hitachi', '', 'f4', '', '1.2', 'Легкая техника для уборки снега']\n",
      "[]\n"
     ]
    },
    {
     "data": {
      "text/plain": [
       "[<__main__.Car at 0x10f8fa3c8>,\n",
       " <__main__.Truck at 0x10f8faba8>,\n",
       " <__main__.Truck at 0x10f642d68>,\n",
       " <__main__.Car at 0x10f642898>,\n",
       " <__main__.Car at 0x10f642898>,\n",
       " <__main__.SpecMachine at 0x10f642f98>]"
      ]
     },
     "execution_count": 130,
     "metadata": {},
     "output_type": "execute_result"
    }
   ],
   "source": [
    "get_car_list(file)"
   ]
  },
  {
   "cell_type": "code",
   "execution_count": null,
   "metadata": {},
   "outputs": [],
   "source": []
  }
 ],
 "metadata": {
  "kernelspec": {
   "display_name": "Python 3",
   "language": "python",
   "name": "python3"
  },
  "language_info": {
   "codemirror_mode": {
    "name": "ipython",
    "version": 3
   },
   "file_extension": ".py",
   "mimetype": "text/x-python",
   "name": "python",
   "nbconvert_exporter": "python",
   "pygments_lexer": "ipython3",
   "version": "3.6.4"
  }
 },
 "nbformat": 4,
 "nbformat_minor": 2
}
